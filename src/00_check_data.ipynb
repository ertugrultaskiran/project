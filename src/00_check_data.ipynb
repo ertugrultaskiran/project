{
  "cells": [
    {
      "cell_type": "markdown",
      "metadata": {},
      "source": [
        "# 1) Veriyi Oku + Sütunları Doğrula + Hızlı EDA\n",
        "\n",
        "Bu notebook'ta:\n",
        "- Veriyi yükleyip sütun isimlerini kontrol edeceğiz\n",
        "- Temel istatistikler ve veri kalitesi kontrolü yapacağız\n",
        "- Sınıf dağılımını inceleyeceğiz\n"
      ]
    },
    {
      "cell_type": "code",
      "execution_count": 1,
      "metadata": {},
      "outputs": [],
      "source": [
        "import pandas as pd\n",
        "from pathlib import Path\n"
      ]
    },
    {
      "cell_type": "markdown",
      "metadata": {},
      "source": [
        "## Veriyi Yükleme\n"
      ]
    },
    {
      "cell_type": "code",
      "execution_count": 2,
      "metadata": {},
      "outputs": [
        {
          "name": "stdout",
          "output_type": "stream",
          "text": [
            "Veri boyutu: (47837, 2)\n",
            "\n",
            "İlk 5 satır:\n"
          ]
        },
        {
          "data": {
            "text/html": [
              "<div>\n",
              "<style scoped>\n",
              "    .dataframe tbody tr th:only-of-type {\n",
              "        vertical-align: middle;\n",
              "    }\n",
              "\n",
              "    .dataframe tbody tr th {\n",
              "        vertical-align: top;\n",
              "    }\n",
              "\n",
              "    .dataframe thead th {\n",
              "        text-align: right;\n",
              "    }\n",
              "</style>\n",
              "<table border=\"1\" class=\"dataframe\">\n",
              "  <thead>\n",
              "    <tr style=\"text-align: right;\">\n",
              "      <th></th>\n",
              "      <th>Document</th>\n",
              "      <th>Topic_group</th>\n",
              "    </tr>\n",
              "  </thead>\n",
              "  <tbody>\n",
              "    <tr>\n",
              "      <th>0</th>\n",
              "      <td>connection with icon icon dear please setup ic...</td>\n",
              "      <td>Hardware</td>\n",
              "    </tr>\n",
              "    <tr>\n",
              "      <th>1</th>\n",
              "      <td>work experience user work experience user hi w...</td>\n",
              "      <td>Access</td>\n",
              "    </tr>\n",
              "    <tr>\n",
              "      <th>2</th>\n",
              "      <td>requesting for meeting requesting meeting hi p...</td>\n",
              "      <td>Hardware</td>\n",
              "    </tr>\n",
              "    <tr>\n",
              "      <th>3</th>\n",
              "      <td>reset passwords for external accounts re expir...</td>\n",
              "      <td>Access</td>\n",
              "    </tr>\n",
              "    <tr>\n",
              "      <th>4</th>\n",
              "      <td>mail verification warning hi has got attached ...</td>\n",
              "      <td>Miscellaneous</td>\n",
              "    </tr>\n",
              "  </tbody>\n",
              "</table>\n",
              "</div>"
            ],
            "text/plain": [
              "                                            Document    Topic_group\n",
              "0  connection with icon icon dear please setup ic...       Hardware\n",
              "1  work experience user work experience user hi w...         Access\n",
              "2  requesting for meeting requesting meeting hi p...       Hardware\n",
              "3  reset passwords for external accounts re expir...         Access\n",
              "4  mail verification warning hi has got attached ...  Miscellaneous"
            ]
          },
          "execution_count": 2,
          "metadata": {},
          "output_type": "execute_result"
        }
      ],
      "source": [
        "# Dosya yolu - Dosya aslında CSV formatında\n",
        "PATH = Path(\"../data/all_tickets_processed_improved_v3.xlsx\")\n",
        "df = pd.read_csv(PATH)\n",
        "\n",
        "print(f\"Veri boyutu: {df.shape}\")\n",
        "print(f\"\\nİlk 5 satır:\")\n",
        "df.head()\n"
      ]
    },
    {
      "cell_type": "markdown",
      "metadata": {},
      "source": [
        "## Sütun İsimleri Kontrolü\n"
      ]
    },
    {
      "cell_type": "code",
      "execution_count": 3,
      "metadata": {},
      "outputs": [
        {
          "name": "stdout",
          "output_type": "stream",
          "text": [
            "Metin sütunu: Document\n",
            "Etiket sütunu: Topic_group\n"
          ]
        }
      ],
      "source": [
        "# Sütunların eski halini kaydedelim\n",
        "text_cols = [c for c in df.columns if c.lower() in [\"document\",\"text\",\"message\",\"ticket\",\"description\"]]\n",
        "label_cols = [c for c in df.columns if c.lower() in [\"topic_group\",\"label\",\"category\",\"class\",\"topic\"]]\n",
        "\n",
        "assert len(text_cols)>=1, f\"Metin sütunu bulunamadı. Var olan sütunlar: {df.columns.tolist()}\"\n",
        "assert len(label_cols)>=1, f\"Etiket sütunu bulunamadı. Var olan sütunlar: {df.columns.tolist()}\"\n",
        "\n",
        "TEXT_COL = text_cols[0]\n",
        "LABEL_COL = label_cols[0]\n",
        "\n",
        "print(f\"Metin sütunu: {TEXT_COL}\")\n",
        "print(f\"Etiket sütunu: {LABEL_COL}\")\n"
      ]
    },
    {
      "cell_type": "code",
      "execution_count": 4,
      "metadata": {},
      "outputs": [
        {
          "name": "stdout",
          "output_type": "stream",
          "text": [
            "Temizlenmiş veri boyutu: (47837, 2)\n"
          ]
        }
      ],
      "source": [
        "# Sütunları yeniden adlandır ve gereksizleri sil\n",
        "df = df[[TEXT_COL, LABEL_COL]].rename(columns={TEXT_COL:\"text\", LABEL_COL:\"label\"}).dropna()\n",
        "df[\"text\"] = df[\"text\"].astype(str).str.strip()\n",
        "df = df[df[\"text\"].str.len()>0].reset_index(drop=True)\n",
        "\n",
        "print(f\"Temizlenmiş veri boyutu: {df.shape}\")\n"
      ]
    },
    {
      "cell_type": "markdown",
      "metadata": {},
      "source": [
        "## Veri Kalitesi Kontrolü\n"
      ]
    },
    {
      "cell_type": "code",
      "execution_count": 5,
      "metadata": {},
      "outputs": [
        {
          "name": "stdout",
          "output_type": "stream",
          "text": [
            "                                                text     label\n",
            "0  connection with icon icon dear please setup ic...  Hardware\n",
            "1  work experience user work experience user hi w...    Access\n",
            "2  requesting for meeting requesting meeting hi p...  Hardware\n"
          ]
        }
      ],
      "source": [
        "print(df.head(3))\n"
      ]
    },
    {
      "cell_type": "code",
      "execution_count": 6,
      "metadata": {},
      "outputs": [
        {
          "name": "stdout",
          "output_type": "stream",
          "text": [
            "\n",
            "=== Null/Boş Değer Kontrolü ===\n",
            "Null değer sayısı:\n",
            "text     0\n",
            "label    0\n",
            "dtype: int64\n",
            "\n",
            "Boş string sayısı: 0\n"
          ]
        }
      ],
      "source": [
        "# Null/boş değer kontrolü\n",
        "print(\"\\n=== Null/Boş Değer Kontrolü ===\")\n",
        "print(f\"Null değer sayısı:\")\n",
        "print(df.isnull().sum())\n",
        "print(f\"\\nBoş string sayısı: {(df['text'] == '').sum()}\")\n"
      ]
    },
    {
      "cell_type": "code",
      "execution_count": 7,
      "metadata": {},
      "outputs": [
        {
          "name": "stdout",
          "output_type": "stream",
          "text": [
            "\n",
            "=== Metin Uzunluğu İstatistikleri ===\n",
            "count    47837.000000\n",
            "mean       291.873989\n",
            "std        388.172619\n",
            "min          7.000000\n",
            "25%        110.000000\n",
            "50%        175.000000\n",
            "75%        304.000000\n",
            "max       7015.000000\n",
            "Name: text_length, dtype: float64\n"
          ]
        }
      ],
      "source": [
        "# Metin uzunlukları\n",
        "df['text_length'] = df['text'].str.len()\n",
        "print(\"\\n=== Metin Uzunluğu İstatistikleri ===\")\n",
        "print(df['text_length'].describe())\n"
      ]
    },
    {
      "cell_type": "markdown",
      "metadata": {},
      "source": [
        "## Sınıf Dağılımı Analizi\n"
      ]
    },
    {
      "cell_type": "code",
      "execution_count": 8,
      "metadata": {},
      "outputs": [
        {
          "name": "stdout",
          "output_type": "stream",
          "text": [
            "\n",
            "=== Sınıf Dağılımı ===\n",
            "Benzersiz sınıf sayısı: 8\n",
            "\n",
            "Sınıf frekansları (ilk 10):\n",
            "label\n",
            "Hardware                 13617\n",
            "HR Support               10915\n",
            "Access                    7125\n",
            "Miscellaneous             7060\n",
            "Storage                   2777\n",
            "Purchase                  2464\n",
            "Internal Project          2119\n",
            "Administrative rights     1760\n",
            "Name: count, dtype: int64\n"
          ]
        }
      ],
      "source": [
        "print(\"\\n=== Sınıf Dağılımı ===\")\n",
        "print(f\"Benzersiz sınıf sayısı: {df['label'].nunique()}\")\n",
        "print(f\"\\nSınıf frekansları (ilk 10):\")\n",
        "print(df[\"label\"].value_counts().head(10))\n"
      ]
    },
    {
      "cell_type": "code",
      "execution_count": 9,
      "metadata": {},
      "outputs": [
        {
          "name": "stdout",
          "output_type": "stream",
          "text": [
            "\n",
            "=== Toplam Veri ===\n",
            "Toplam örnek sayısı: 47837\n",
            "Sınıflar: ['Access', 'Administrative rights', 'HR Support', 'Hardware', 'Internal Project', 'Miscellaneous', 'Purchase', 'Storage']\n"
          ]
        }
      ],
      "source": [
        "print(\"\\n=== Toplam Veri ===\")\n",
        "print(f\"Toplam örnek sayısı: {len(df)}\")\n",
        "print(f\"Sınıflar: {sorted(df['label'].unique())}\")\n"
      ]
    },
    {
      "cell_type": "markdown",
      "metadata": {},
      "source": [
        "## Kontrol Listesi\n",
        "\n",
        "✓ Sütun isimleri doğru mu?\n",
        "\n",
        "✓ Null / boş ve çok kısa metinler attık mı?\n",
        "\n",
        "✓ Sınıf sayısı makul mü? (en az 5–10 sınıf varsa güzel)\n"
      ]
    },
    {
      "cell_type": "markdown",
      "metadata": {},
      "source": [
        "## Veriyi Kaydetme (Temizlenmiş Hali)\n"
      ]
    },
    {
      "cell_type": "code",
      "execution_count": 10,
      "metadata": {},
      "outputs": [
        {
          "name": "stdout",
          "output_type": "stream",
          "text": [
            "\n",
            "Temizlenmiş veri kaydedildi: (47837, 2)\n"
          ]
        }
      ],
      "source": [
        "# Temizlenmiş veriyi kaydet\n",
        "df_clean = df[[\"text\", \"label\"]].copy()\n",
        "df_clean.to_csv(\"../data/cleaned_data.csv\", index=False)\n",
        "print(f\"\\nTemizlenmiş veri kaydedildi: {df_clean.shape}\")\n"
      ]
    }
  ],
  "metadata": {
    "kernelspec": {
      "display_name": "Python 3",
      "language": "python",
      "name": "python3"
    },
    "language_info": {
      "codemirror_mode": {
        "name": "ipython",
        "version": 3
      },
      "file_extension": ".py",
      "mimetype": "text/x-python",
      "name": "python",
      "nbconvert_exporter": "python",
      "pygments_lexer": "ipython3",
      "version": "3.13.5"
    }
  },
  "nbformat": 4,
  "nbformat_minor": 2
}
