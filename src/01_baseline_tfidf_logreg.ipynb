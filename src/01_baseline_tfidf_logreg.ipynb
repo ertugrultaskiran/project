{
  "cells": [
    {
      "cell_type": "markdown",
      "metadata": {},
      "source": [
        "# 3) Hızlı Baseline (önerilir): TF-IDF + Lojistik Regresyon\n",
        "\n",
        "Bu, \"derine\" inmeden önce sağlam bir referans metrik verir.\n"
      ]
    },
    {
      "cell_type": "code",
      "execution_count": 1,
      "metadata": {},
      "outputs": [],
      "source": [
        "import pandas as pd\n",
        "from pathlib import Path\n",
        "from sklearn.model_selection import train_test_split\n",
        "from sklearn.pipeline import Pipeline\n",
        "from sklearn.feature_extraction.text import TfidfVectorizer\n",
        "from sklearn.linear_model import LogisticRegression\n",
        "from sklearn.metrics import classification_report\n"
      ]
    },
    {
      "cell_type": "markdown",
      "metadata": {},
      "source": [
        "## Veriyi Yükle\n"
      ]
    },
    {
      "cell_type": "code",
      "execution_count": 2,
      "metadata": {},
      "outputs": [
        {
          "name": "stdout",
          "output_type": "stream",
          "text": [
            "Veri boyutu: (47837, 2)\n"
          ]
        },
        {
          "data": {
            "text/html": [
              "<div>\n",
              "<style scoped>\n",
              "    .dataframe tbody tr th:only-of-type {\n",
              "        vertical-align: middle;\n",
              "    }\n",
              "\n",
              "    .dataframe tbody tr th {\n",
              "        vertical-align: top;\n",
              "    }\n",
              "\n",
              "    .dataframe thead th {\n",
              "        text-align: right;\n",
              "    }\n",
              "</style>\n",
              "<table border=\"1\" class=\"dataframe\">\n",
              "  <thead>\n",
              "    <tr style=\"text-align: right;\">\n",
              "      <th></th>\n",
              "      <th>text</th>\n",
              "      <th>label</th>\n",
              "    </tr>\n",
              "  </thead>\n",
              "  <tbody>\n",
              "    <tr>\n",
              "      <th>0</th>\n",
              "      <td>connection with icon icon dear please setup ic...</td>\n",
              "      <td>Hardware</td>\n",
              "    </tr>\n",
              "    <tr>\n",
              "      <th>1</th>\n",
              "      <td>work experience user work experience user hi w...</td>\n",
              "      <td>Access</td>\n",
              "    </tr>\n",
              "    <tr>\n",
              "      <th>2</th>\n",
              "      <td>requesting for meeting requesting meeting hi p...</td>\n",
              "      <td>Hardware</td>\n",
              "    </tr>\n",
              "    <tr>\n",
              "      <th>3</th>\n",
              "      <td>reset passwords for external accounts re expir...</td>\n",
              "      <td>Access</td>\n",
              "    </tr>\n",
              "    <tr>\n",
              "      <th>4</th>\n",
              "      <td>mail verification warning hi has got attached ...</td>\n",
              "      <td>Miscellaneous</td>\n",
              "    </tr>\n",
              "  </tbody>\n",
              "</table>\n",
              "</div>"
            ],
            "text/plain": [
              "                                                text          label\n",
              "0  connection with icon icon dear please setup ic...       Hardware\n",
              "1  work experience user work experience user hi w...         Access\n",
              "2  requesting for meeting requesting meeting hi p...       Hardware\n",
              "3  reset passwords for external accounts re expir...         Access\n",
              "4  mail verification warning hi has got attached ...  Miscellaneous"
            ]
          },
          "execution_count": 2,
          "metadata": {},
          "output_type": "execute_result"
        }
      ],
      "source": [
        "# Temizlenmiş veriyi oku\n",
        "df = pd.read_csv(\"../data/cleaned_data.csv\")\n",
        "print(f\"Veri boyutu: {df.shape}\")\n",
        "df.head()\n"
      ]
    },
    {
      "cell_type": "markdown",
      "metadata": {},
      "source": [
        "## Dengesizlik Kontrolü + train/valid/test Bölümü\n"
      ]
    },
    {
      "cell_type": "code",
      "execution_count": 3,
      "metadata": {},
      "outputs": [
        {
          "name": "stdout",
          "output_type": "stream",
          "text": [
            "38269 4784 4784\n"
          ]
        }
      ],
      "source": [
        "# Stratified split\n",
        "X_train, X_tmp, y_train, y_tmp = train_test_split(\n",
        "    df[\"text\"], df[\"label\"], test_size=0.2, random_state=42, stratify=df[\"label\"]\n",
        ")\n",
        "X_val, X_test, y_val, y_test = train_test_split(\n",
        "    X_tmp, y_tmp, test_size=0.5, random_state=42, stratify=y_tmp\n",
        ")\n",
        "\n",
        "print(len(X_train), len(X_val), len(X_test))\n"
      ]
    },
    {
      "cell_type": "markdown",
      "metadata": {},
      "source": [
        "## Class Weights (dengesiz sınıflar için)\n"
      ]
    },
    {
      "cell_type": "code",
      "execution_count": 4,
      "metadata": {},
      "outputs": [
        {
          "name": "stdout",
          "output_type": "stream",
          "text": [
            "Class weights: {'Access': np.float64(0.8392324561403509), 'Administrative rights': np.float64(3.3974609375), 'HR Support': np.float64(0.5478269583142464), 'Hardware': np.float64(0.4391466997154136), 'Internal Project': np.float64(2.8221976401179942), 'Miscellaneous': np.float64(0.8469591005665722), 'Purchase': np.float64(2.427004058853374), 'Storage': np.float64(2.1528465346534653)}\n"
          ]
        }
      ],
      "source": [
        "from sklearn.utils.class_weight import compute_class_weight\n",
        "import numpy as np\n",
        "\n",
        "classes = np.unique(y_train)\n",
        "class_weights = compute_class_weight(class_weight=\"balanced\", classes=classes, y=y_train)\n",
        "class_weights = {c:w for c,w in zip(classes, class_weights)}\n",
        "print(f\"Class weights: {class_weights}\")\n"
      ]
    },
    {
      "cell_type": "markdown",
      "metadata": {},
      "source": [
        "## Pipeline: TF-IDF + Logistic Regression\n"
      ]
    },
    {
      "cell_type": "code",
      "execution_count": 5,
      "metadata": {},
      "outputs": [
        {
          "name": "stdout",
          "output_type": "stream",
          "text": [
            "                       precision    recall  f1-score   support\n",
            "\n",
            "               Access       0.92      0.88      0.90       712\n",
            "Administrative rights       0.93      0.62      0.75       176\n",
            "           HR Support       0.86      0.88      0.87      1092\n",
            "             Hardware       0.79      0.90      0.84      1362\n",
            "     Internal Project       0.96      0.76      0.85       212\n",
            "        Miscellaneous       0.84      0.82      0.83       706\n",
            "             Purchase       0.99      0.83      0.90       246\n",
            "              Storage       0.95      0.82      0.88       278\n",
            "\n",
            "             accuracy                           0.86      4784\n",
            "            macro avg       0.90      0.82      0.85      4784\n",
            "         weighted avg       0.86      0.86      0.86      4784\n",
            "\n"
          ]
        }
      ],
      "source": [
        "pipe = Pipeline([\n",
        "    (\"tfidf\", TfidfVectorizer(min_df=3, max_df=0.9, ngram_range=(1,2))),\n",
        "    (\"clf\", LogisticRegression(max_iter=200, n_jobs=-1))\n",
        "])\n",
        "\n",
        "pipe.fit(X_train, y_train)\n",
        "pred = pipe.predict(X_val)\n",
        "print(classification_report(y_val, pred, zero_division=0))\n"
      ]
    },
    {
      "cell_type": "markdown",
      "metadata": {},
      "source": [
        "## Test Seti ile Değerlendirme\n"
      ]
    },
    {
      "cell_type": "code",
      "execution_count": 6,
      "metadata": {},
      "outputs": [
        {
          "name": "stdout",
          "output_type": "stream",
          "text": [
            "\n",
            "=== TEST SETİ SONUÇLARI ===\n",
            "                       precision    recall  f1-score   support\n",
            "\n",
            "               Access       0.92      0.86      0.89       713\n",
            "Administrative rights       0.90      0.61      0.73       176\n",
            "           HR Support       0.87      0.88      0.87      1091\n",
            "             Hardware       0.79      0.91      0.85      1362\n",
            "     Internal Project       0.93      0.78      0.85       212\n",
            "        Miscellaneous       0.84      0.83      0.83       706\n",
            "             Purchase       0.99      0.88      0.93       247\n",
            "              Storage       0.97      0.82      0.89       277\n",
            "\n",
            "             accuracy                           0.86      4784\n",
            "            macro avg       0.90      0.82      0.85      4784\n",
            "         weighted avg       0.87      0.86      0.86      4784\n",
            "\n"
          ]
        }
      ],
      "source": [
        "pred_test = pipe.predict(X_test)\n",
        "print(\"\\n=== TEST SETİ SONUÇLARI ===\")\n",
        "print(classification_report(y_test, pred_test, zero_division=0))\n"
      ]
    },
    {
      "cell_type": "markdown",
      "metadata": {},
      "source": [
        "## Modeli Kaydet\n"
      ]
    },
    {
      "cell_type": "code",
      "execution_count": 7,
      "metadata": {},
      "outputs": [
        {
          "name": "stdout",
          "output_type": "stream",
          "text": [
            "Baseline model kaydedildi!\n"
          ]
        }
      ],
      "source": [
        "import pickle\n",
        "\n",
        "# Modeli kaydet\n",
        "with open(\"../models/baseline_tfidf_logreg.pkl\", \"wb\") as f:\n",
        "    pickle.dump(pipe, f)\n",
        "    \n",
        "print(\"Baseline model kaydedildi!\")\n"
      ]
    },
    {
      "cell_type": "markdown",
      "metadata": {},
      "source": [
        "**Not:** Eğer bu baseline zaten yüksekse, LSTM yerine Linear SVM ya da BERT de düşünebiliriz. Ama projenin planına sadık kalıp LSTM kuracağız.\n"
      ]
    }
  ],
  "metadata": {
    "kernelspec": {
      "display_name": "Python 3",
      "language": "python",
      "name": "python3"
    },
    "language_info": {
      "codemirror_mode": {
        "name": "ipython",
        "version": 3
      },
      "file_extension": ".py",
      "mimetype": "text/x-python",
      "name": "python",
      "nbconvert_exporter": "python",
      "pygments_lexer": "ipython3",
      "version": "3.13.5"
    }
  },
  "nbformat": 4,
  "nbformat_minor": 2
}
