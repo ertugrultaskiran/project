{
  "cells": [
    {
      "cell_type": "markdown",
      "metadata": {},
      "source": [
        "# 4) Temizleme (tokenizasyon/stopword/lemmasyon opsiyonel)\n",
        "\n",
        "İngilizce için basit temizlik genelde yeterli. Aşırı agresif temizlik **anlam** kaybettirebilir.\n"
      ]
    },
    {
      "cell_type": "code",
      "execution_count": 1,
      "metadata": {},
      "outputs": [],
      "source": [
        "import pandas as pd\n",
        "import numpy as np\n",
        "import re\n",
        "import sys\n",
        "sys.path.append('..')\n",
        "\n",
        "from utils import basic_clean\n"
      ]
    },
    {
      "cell_type": "code",
      "execution_count": 2,
      "metadata": {},
      "outputs": [
        {
          "name": "stdout",
          "output_type": "stream",
          "text": [
            "                                                text     label  \\\n",
            "0  connection with icon icon dear please setup ic...  Hardware   \n",
            "1  work experience user work experience user hi w...    Access   \n",
            "2  requesting for meeting requesting meeting hi p...  Hardware   \n",
            "\n",
            "                                          text_clean  \n",
            "0  connection with icon icon dear please setup ic...  \n",
            "1  work experience user work experience user hi w...  \n",
            "2  requesting for meeting requesting meeting hi p...  \n"
          ]
        }
      ],
      "source": [
        "# Veriyi yükle\n",
        "df = pd.read_csv(\"../data/cleaned_data.csv\")\n",
        "\n",
        "# Temizleme uygula\n",
        "df['text_clean'] = df['text'].apply(basic_clean)\n",
        "\n",
        "print(df.head(3))\n"
      ]
    },
    {
      "cell_type": "markdown",
      "metadata": {},
      "source": [
        "# 5) Word2Vec Eğit (gensim) ve Embedding Matrisi Hazırla\n"
      ]
    },
    {
      "cell_type": "code",
      "execution_count": null,
      "metadata": {},
      "outputs": [],
      "source": [
        "from gensim.models import Word2Vec\n",
        "from tensorflow.keras.preprocessing.text import Tokenizer  # type: ignore\n",
        "from tensorflow.keras.preprocessing.sequence import pad_sequences  # type: ignore\n"
      ]
    },
    {
      "cell_type": "code",
      "execution_count": 4,
      "metadata": {},
      "outputs": [
        {
          "name": "stdout",
          "output_type": "stream",
          "text": [
            "38269 4784 4784\n"
          ]
        }
      ],
      "source": [
        "# Train/val/test split (aynı şekilde)\n",
        "from sklearn.model_selection import train_test_split\n",
        "\n",
        "X_train, X_tmp, y_train, y_tmp = train_test_split(\n",
        "    df[\"text_clean\"], df[\"label\"], test_size=0.2, random_state=42, stratify=df[\"label\"]\n",
        ")\n",
        "X_val, X_test, y_val, y_test = train_test_split(\n",
        "    X_tmp, y_tmp, test_size=0.5, random_state=42, stratify=y_tmp\n",
        ")\n",
        "\n",
        "print(len(X_train), len(X_val), len(X_test))\n"
      ]
    },
    {
      "cell_type": "markdown",
      "metadata": {},
      "source": [
        "## 5.1 Tokenizer\n"
      ]
    },
    {
      "cell_type": "code",
      "execution_count": 5,
      "metadata": {},
      "outputs": [
        {
          "name": "stdout",
          "output_type": "stream",
          "text": [
            "Vocabulary size: 11661\n"
          ]
        }
      ],
      "source": [
        "MAX_VOCAB = 40000\n",
        "\n",
        "tokenizer = Tokenizer(num_words=MAX_VOCAB, oov_token=\"<UNK>\")\n",
        "tokenizer.fit_on_texts(X_train)\n",
        "\n",
        "seq_train = tokenizer.texts_to_sequences(X_train)\n",
        "seq_val   = tokenizer.texts_to_sequences(X_val)\n",
        "seq_test  = tokenizer.texts_to_sequences(X_test)\n",
        "\n",
        "print(f\"Vocabulary size: {len(tokenizer.word_index)}\")\n"
      ]
    },
    {
      "cell_type": "markdown",
      "metadata": {},
      "source": [
        "## Padding\n"
      ]
    },
    {
      "cell_type": "code",
      "execution_count": 6,
      "metadata": {},
      "outputs": [
        {
          "name": "stdout",
          "output_type": "stream",
          "text": [
            "Train shape: (38269, 80)\n"
          ]
        }
      ],
      "source": [
        "MAX_LEN = 80  # ticket metinleri için pratik başlangıç\n",
        "\n",
        "Xtr = pad_sequences(seq_train, maxlen=MAX_LEN, padding=\"post\", truncating=\"post\")\n",
        "Xv  = pad_sequences(seq_val,   maxlen=MAX_LEN, padding=\"post\", truncating=\"post\")\n",
        "Xt  = pad_sequences(seq_test,  maxlen=MAX_LEN, padding=\"post\", truncating=\"post\")\n",
        "\n",
        "print(f\"Train shape: {Xtr.shape}\")\n"
      ]
    },
    {
      "cell_type": "markdown",
      "metadata": {},
      "source": [
        "## 5.2 Word2Vec (corpus: train)\n"
      ]
    },
    {
      "cell_type": "code",
      "execution_count": 7,
      "metadata": {},
      "outputs": [
        {
          "name": "stdout",
          "output_type": "stream",
          "text": [
            "Word2Vec model trained with 8996 words\n"
          ]
        }
      ],
      "source": [
        "sentences = [ [w for w in t.split()] for t in X_train.tolist() ]\n",
        "\n",
        "w2v = Word2Vec(sentences=sentences, vector_size=200, window=5, min_count=2, workers=4, sg=1, epochs=10)\n",
        "\n",
        "print(f\"Word2Vec model trained with {len(w2v.wv)} words\")\n"
      ]
    },
    {
      "cell_type": "markdown",
      "metadata": {},
      "source": [
        "## 5.3 Embedding Matrisi\n"
      ]
    },
    {
      "cell_type": "code",
      "execution_count": 8,
      "metadata": {},
      "outputs": [
        {
          "name": "stdout",
          "output_type": "stream",
          "text": [
            "Embedding matrix shape: (11662, 200)\n"
          ]
        }
      ],
      "source": [
        "word_index = tokenizer.word_index\n",
        "vocab_size = min(MAX_VOCAB, len(word_index)+1)\n",
        "emb_dim = w2v.vector_size\n",
        "\n",
        "embedding_matrix = np.random.normal(0, 0.6, (vocab_size, emb_dim)).astype(np.float32)\n",
        "\n",
        "for word, idx in word_index.items():\n",
        "    if idx >= vocab_size:\n",
        "        continue\n",
        "    if word in w2v.wv:\n",
        "        embedding_matrix[idx] = w2v.wv[word]\n",
        "\n",
        "print(f\"Embedding matrix shape: {embedding_matrix.shape}\")\n"
      ]
    },
    {
      "cell_type": "markdown",
      "metadata": {},
      "source": [
        "# 6) LSTM Modeli (Keras)\n"
      ]
    },
    {
      "cell_type": "code",
      "execution_count": 9,
      "metadata": {},
      "outputs": [],
      "source": [
        "import tensorflow as tf  # type: ignore\n",
        "from tensorflow.keras import layers, models  # type: ignore\n",
        "from sklearn.preprocessing import LabelEncoder\n"
      ]
    },
    {
      "cell_type": "code",
      "execution_count": 10,
      "metadata": {},
      "outputs": [
        {
          "name": "stdout",
          "output_type": "stream",
          "text": [
            "Number of classes: 8\n"
          ]
        }
      ],
      "source": [
        "# Label encoding\n",
        "le = LabelEncoder()\n",
        "ytr = le.fit_transform(y_train)\n",
        "yv  = le.transform(y_val)\n",
        "yt  = le.transform(y_test)\n",
        "\n",
        "num_classes = len(le.classes_)\n",
        "print(f\"Number of classes: {num_classes}\")\n"
      ]
    },
    {
      "cell_type": "markdown",
      "metadata": {},
      "source": [
        "## Model Mimarisi\n"
      ]
    },
    {
      "cell_type": "code",
      "execution_count": 11,
      "metadata": {},
      "outputs": [
        {
          "name": "stderr",
          "output_type": "stream",
          "text": [
            "c:\\Users\\ertug\\AppData\\Local\\Programs\\Python\\Python313\\Lib\\site-packages\\keras\\src\\layers\\core\\embedding.py:97: UserWarning: Argument `input_length` is deprecated. Just remove it.\n",
            "  warnings.warn(\n"
          ]
        },
        {
          "data": {
            "text/html": [
              "<pre style=\"white-space:pre;overflow-x:auto;line-height:normal;font-family:Menlo,'DejaVu Sans Mono',consolas,'Courier New',monospace\"><span style=\"font-weight: bold\">Model: \"functional\"</span>\n",
              "</pre>\n"
            ],
            "text/plain": [
              "\u001b[1mModel: \"functional\"\u001b[0m\n"
            ]
          },
          "metadata": {},
          "output_type": "display_data"
        },
        {
          "data": {
            "text/html": [
              "<pre style=\"white-space:pre;overflow-x:auto;line-height:normal;font-family:Menlo,'DejaVu Sans Mono',consolas,'Courier New',monospace\">┏━━━━━━━━━━━━━━━━━━━━━━━━━━━━━━━━━┳━━━━━━━━━━━━━━━━━━━━━━━━┳━━━━━━━━━━━━━━━┓\n",
              "┃<span style=\"font-weight: bold\"> Layer (type)                    </span>┃<span style=\"font-weight: bold\"> Output Shape           </span>┃<span style=\"font-weight: bold\">       Param # </span>┃\n",
              "┡━━━━━━━━━━━━━━━━━━━━━━━━━━━━━━━━━╇━━━━━━━━━━━━━━━━━━━━━━━━╇━━━━━━━━━━━━━━━┩\n",
              "│ input_layer (<span style=\"color: #0087ff; text-decoration-color: #0087ff\">InputLayer</span>)        │ (<span style=\"color: #00d7ff; text-decoration-color: #00d7ff\">None</span>, <span style=\"color: #00af00; text-decoration-color: #00af00\">80</span>)             │             <span style=\"color: #00af00; text-decoration-color: #00af00\">0</span> │\n",
              "├─────────────────────────────────┼────────────────────────┼───────────────┤\n",
              "│ embedding (<span style=\"color: #0087ff; text-decoration-color: #0087ff\">Embedding</span>)           │ (<span style=\"color: #00d7ff; text-decoration-color: #00d7ff\">None</span>, <span style=\"color: #00af00; text-decoration-color: #00af00\">80</span>, <span style=\"color: #00af00; text-decoration-color: #00af00\">200</span>)        │     <span style=\"color: #00af00; text-decoration-color: #00af00\">2,332,400</span> │\n",
              "├─────────────────────────────────┼────────────────────────┼───────────────┤\n",
              "│ spatial_dropout1d               │ (<span style=\"color: #00d7ff; text-decoration-color: #00d7ff\">None</span>, <span style=\"color: #00af00; text-decoration-color: #00af00\">80</span>, <span style=\"color: #00af00; text-decoration-color: #00af00\">200</span>)        │             <span style=\"color: #00af00; text-decoration-color: #00af00\">0</span> │\n",
              "│ (<span style=\"color: #0087ff; text-decoration-color: #0087ff\">SpatialDropout1D</span>)              │                        │               │\n",
              "├─────────────────────────────────┼────────────────────────┼───────────────┤\n",
              "│ bidirectional (<span style=\"color: #0087ff; text-decoration-color: #0087ff\">Bidirectional</span>)   │ (<span style=\"color: #00d7ff; text-decoration-color: #00d7ff\">None</span>, <span style=\"color: #00af00; text-decoration-color: #00af00\">80</span>, <span style=\"color: #00af00; text-decoration-color: #00af00\">256</span>)        │       <span style=\"color: #00af00; text-decoration-color: #00af00\">336,896</span> │\n",
              "├─────────────────────────────────┼────────────────────────┼───────────────┤\n",
              "│ global_max_pooling1d            │ (<span style=\"color: #00d7ff; text-decoration-color: #00d7ff\">None</span>, <span style=\"color: #00af00; text-decoration-color: #00af00\">256</span>)            │             <span style=\"color: #00af00; text-decoration-color: #00af00\">0</span> │\n",
              "│ (<span style=\"color: #0087ff; text-decoration-color: #0087ff\">GlobalMaxPooling1D</span>)            │                        │               │\n",
              "├─────────────────────────────────┼────────────────────────┼───────────────┤\n",
              "│ dropout (<span style=\"color: #0087ff; text-decoration-color: #0087ff\">Dropout</span>)               │ (<span style=\"color: #00d7ff; text-decoration-color: #00d7ff\">None</span>, <span style=\"color: #00af00; text-decoration-color: #00af00\">256</span>)            │             <span style=\"color: #00af00; text-decoration-color: #00af00\">0</span> │\n",
              "├─────────────────────────────────┼────────────────────────┼───────────────┤\n",
              "│ dense (<span style=\"color: #0087ff; text-decoration-color: #0087ff\">Dense</span>)                   │ (<span style=\"color: #00d7ff; text-decoration-color: #00d7ff\">None</span>, <span style=\"color: #00af00; text-decoration-color: #00af00\">8</span>)              │         <span style=\"color: #00af00; text-decoration-color: #00af00\">2,056</span> │\n",
              "└─────────────────────────────────┴────────────────────────┴───────────────┘\n",
              "</pre>\n"
            ],
            "text/plain": [
              "┏━━━━━━━━━━━━━━━━━━━━━━━━━━━━━━━━━┳━━━━━━━━━━━━━━━━━━━━━━━━┳━━━━━━━━━━━━━━━┓\n",
              "┃\u001b[1m \u001b[0m\u001b[1mLayer (type)                   \u001b[0m\u001b[1m \u001b[0m┃\u001b[1m \u001b[0m\u001b[1mOutput Shape          \u001b[0m\u001b[1m \u001b[0m┃\u001b[1m \u001b[0m\u001b[1m      Param #\u001b[0m\u001b[1m \u001b[0m┃\n",
              "┡━━━━━━━━━━━━━━━━━━━━━━━━━━━━━━━━━╇━━━━━━━━━━━━━━━━━━━━━━━━╇━━━━━━━━━━━━━━━┩\n",
              "│ input_layer (\u001b[38;5;33mInputLayer\u001b[0m)        │ (\u001b[38;5;45mNone\u001b[0m, \u001b[38;5;34m80\u001b[0m)             │             \u001b[38;5;34m0\u001b[0m │\n",
              "├─────────────────────────────────┼────────────────────────┼───────────────┤\n",
              "│ embedding (\u001b[38;5;33mEmbedding\u001b[0m)           │ (\u001b[38;5;45mNone\u001b[0m, \u001b[38;5;34m80\u001b[0m, \u001b[38;5;34m200\u001b[0m)        │     \u001b[38;5;34m2,332,400\u001b[0m │\n",
              "├─────────────────────────────────┼────────────────────────┼───────────────┤\n",
              "│ spatial_dropout1d               │ (\u001b[38;5;45mNone\u001b[0m, \u001b[38;5;34m80\u001b[0m, \u001b[38;5;34m200\u001b[0m)        │             \u001b[38;5;34m0\u001b[0m │\n",
              "│ (\u001b[38;5;33mSpatialDropout1D\u001b[0m)              │                        │               │\n",
              "├─────────────────────────────────┼────────────────────────┼───────────────┤\n",
              "│ bidirectional (\u001b[38;5;33mBidirectional\u001b[0m)   │ (\u001b[38;5;45mNone\u001b[0m, \u001b[38;5;34m80\u001b[0m, \u001b[38;5;34m256\u001b[0m)        │       \u001b[38;5;34m336,896\u001b[0m │\n",
              "├─────────────────────────────────┼────────────────────────┼───────────────┤\n",
              "│ global_max_pooling1d            │ (\u001b[38;5;45mNone\u001b[0m, \u001b[38;5;34m256\u001b[0m)            │             \u001b[38;5;34m0\u001b[0m │\n",
              "│ (\u001b[38;5;33mGlobalMaxPooling1D\u001b[0m)            │                        │               │\n",
              "├─────────────────────────────────┼────────────────────────┼───────────────┤\n",
              "│ dropout (\u001b[38;5;33mDropout\u001b[0m)               │ (\u001b[38;5;45mNone\u001b[0m, \u001b[38;5;34m256\u001b[0m)            │             \u001b[38;5;34m0\u001b[0m │\n",
              "├─────────────────────────────────┼────────────────────────┼───────────────┤\n",
              "│ dense (\u001b[38;5;33mDense\u001b[0m)                   │ (\u001b[38;5;45mNone\u001b[0m, \u001b[38;5;34m8\u001b[0m)              │         \u001b[38;5;34m2,056\u001b[0m │\n",
              "└─────────────────────────────────┴────────────────────────┴───────────────┘\n"
            ]
          },
          "metadata": {},
          "output_type": "display_data"
        },
        {
          "data": {
            "text/html": [
              "<pre style=\"white-space:pre;overflow-x:auto;line-height:normal;font-family:Menlo,'DejaVu Sans Mono',consolas,'Courier New',monospace\"><span style=\"font-weight: bold\"> Total params: </span><span style=\"color: #00af00; text-decoration-color: #00af00\">2,671,352</span> (10.19 MB)\n",
              "</pre>\n"
            ],
            "text/plain": [
              "\u001b[1m Total params: \u001b[0m\u001b[38;5;34m2,671,352\u001b[0m (10.19 MB)\n"
            ]
          },
          "metadata": {},
          "output_type": "display_data"
        },
        {
          "data": {
            "text/html": [
              "<pre style=\"white-space:pre;overflow-x:auto;line-height:normal;font-family:Menlo,'DejaVu Sans Mono',consolas,'Courier New',monospace\"><span style=\"font-weight: bold\"> Trainable params: </span><span style=\"color: #00af00; text-decoration-color: #00af00\">338,952</span> (1.29 MB)\n",
              "</pre>\n"
            ],
            "text/plain": [
              "\u001b[1m Trainable params: \u001b[0m\u001b[38;5;34m338,952\u001b[0m (1.29 MB)\n"
            ]
          },
          "metadata": {},
          "output_type": "display_data"
        },
        {
          "data": {
            "text/html": [
              "<pre style=\"white-space:pre;overflow-x:auto;line-height:normal;font-family:Menlo,'DejaVu Sans Mono',consolas,'Courier New',monospace\"><span style=\"font-weight: bold\"> Non-trainable params: </span><span style=\"color: #00af00; text-decoration-color: #00af00\">2,332,400</span> (8.90 MB)\n",
              "</pre>\n"
            ],
            "text/plain": [
              "\u001b[1m Non-trainable params: \u001b[0m\u001b[38;5;34m2,332,400\u001b[0m (8.90 MB)\n"
            ]
          },
          "metadata": {},
          "output_type": "display_data"
        }
      ],
      "source": [
        "inp = layers.Input(shape=(MAX_LEN,))\n",
        "\n",
        "emb = layers.Embedding(input_dim=vocab_size, output_dim=emb_dim,\n",
        "                       weights=[embedding_matrix], input_length=MAX_LEN, trainable=False)(inp)\n",
        "\n",
        "x = layers.SpatialDropout1D(0.2)(emb)\n",
        "x = layers.Bidirectional(layers.LSTM(128, return_sequences=True))(x)\n",
        "x = layers.GlobalMaxPooling1D()(x)\n",
        "x = layers.Dropout(0.3)(x)\n",
        "\n",
        "out = layers.Dense(num_classes, activation=\"softmax\")(x)\n",
        "\n",
        "model = models.Model(inp, out)\n",
        "model.compile(optimizer=\"adam\", loss=\"sparse_categorical_crossentropy\", metrics=[\"accuracy\"])\n",
        "model.summary()\n"
      ]
    },
    {
      "cell_type": "markdown",
      "metadata": {},
      "source": [
        "## Class Weight (dengesiz sınıflar için)\n"
      ]
    },
    {
      "cell_type": "code",
      "execution_count": 12,
      "metadata": {},
      "outputs": [
        {
          "name": "stdout",
          "output_type": "stream",
          "text": [
            "Class weights computed: 8 classes\n"
          ]
        }
      ],
      "source": [
        "from sklearn.utils.class_weight import compute_class_weight\n",
        "\n",
        "classes = np.unique(ytr)\n",
        "class_weights_arr = compute_class_weight(class_weight=\"balanced\", classes=classes, y=ytr)\n",
        "cw = { int(le.transform([k])[0]): float(v) for k,v in zip(le.classes_, class_weights_arr) if k in le.classes_ }\n",
        "\n",
        "print(f\"Class weights computed: {len(cw)} classes\")\n"
      ]
    },
    {
      "cell_type": "markdown",
      "metadata": {},
      "source": [
        "## Eğitim\n"
      ]
    },
    {
      "cell_type": "code",
      "execution_count": 13,
      "metadata": {},
      "outputs": [
        {
          "name": "stdout",
          "output_type": "stream",
          "text": [
            "Epoch 1/15\n",
            "\u001b[1m598/598\u001b[0m \u001b[32m━━━━━━━━━━━━━━━━━━━━\u001b[0m\u001b[37m\u001b[0m \u001b[1m63s\u001b[0m 100ms/step - accuracy: 0.6658 - loss: 0.7868 - val_accuracy: 0.8012 - val_loss: 0.5892\n",
            "Epoch 2/15\n",
            "\u001b[1m598/598\u001b[0m \u001b[32m━━━━━━━━━━━━━━━━━━━━\u001b[0m\u001b[37m\u001b[0m \u001b[1m57s\u001b[0m 95ms/step - accuracy: 0.7761 - loss: 0.5026 - val_accuracy: 0.8186 - val_loss: 0.5264\n",
            "Epoch 3/15\n",
            "\u001b[1m598/598\u001b[0m \u001b[32m━━━━━━━━━━━━━━━━━━━━\u001b[0m\u001b[37m\u001b[0m \u001b[1m56s\u001b[0m 94ms/step - accuracy: 0.8021 - loss: 0.4383 - val_accuracy: 0.8202 - val_loss: 0.5164\n",
            "Epoch 4/15\n",
            "\u001b[1m598/598\u001b[0m \u001b[32m━━━━━━━━━━━━━━━━━━━━\u001b[0m\u001b[37m\u001b[0m \u001b[1m57s\u001b[0m 95ms/step - accuracy: 0.8172 - loss: 0.3988 - val_accuracy: 0.8315 - val_loss: 0.4932\n",
            "Epoch 5/15\n",
            "\u001b[1m598/598\u001b[0m \u001b[32m━━━━━━━━━━━━━━━━━━━━\u001b[0m\u001b[37m\u001b[0m \u001b[1m57s\u001b[0m 96ms/step - accuracy: 0.8275 - loss: 0.3660 - val_accuracy: 0.8361 - val_loss: 0.4664\n",
            "Epoch 6/15\n",
            "\u001b[1m598/598\u001b[0m \u001b[32m━━━━━━━━━━━━━━━━━━━━\u001b[0m\u001b[37m\u001b[0m \u001b[1m57s\u001b[0m 95ms/step - accuracy: 0.8385 - loss: 0.3455 - val_accuracy: 0.8418 - val_loss: 0.4423\n",
            "Epoch 7/15\n",
            "\u001b[1m598/598\u001b[0m \u001b[32m━━━━━━━━━━━━━━━━━━━━\u001b[0m\u001b[37m\u001b[0m \u001b[1m57s\u001b[0m 95ms/step - accuracy: 0.8465 - loss: 0.3222 - val_accuracy: 0.8466 - val_loss: 0.4402\n",
            "Epoch 8/15\n",
            "\u001b[1m598/598\u001b[0m \u001b[32m━━━━━━━━━━━━━━━━━━━━\u001b[0m\u001b[37m\u001b[0m \u001b[1m57s\u001b[0m 95ms/step - accuracy: 0.8523 - loss: 0.3033 - val_accuracy: 0.8537 - val_loss: 0.4324\n",
            "Epoch 9/15\n",
            "\u001b[1m598/598\u001b[0m \u001b[32m━━━━━━━━━━━━━━━━━━━━\u001b[0m\u001b[37m\u001b[0m \u001b[1m57s\u001b[0m 95ms/step - accuracy: 0.8589 - loss: 0.2926 - val_accuracy: 0.8591 - val_loss: 0.4059\n",
            "Epoch 10/15\n",
            "\u001b[1m598/598\u001b[0m \u001b[32m━━━━━━━━━━━━━━━━━━━━\u001b[0m\u001b[37m\u001b[0m \u001b[1m57s\u001b[0m 95ms/step - accuracy: 0.8645 - loss: 0.2766 - val_accuracy: 0.8597 - val_loss: 0.3896\n",
            "Epoch 11/15\n",
            "\u001b[1m598/598\u001b[0m \u001b[32m━━━━━━━━━━━━━━━━━━━━\u001b[0m\u001b[37m\u001b[0m \u001b[1m57s\u001b[0m 95ms/step - accuracy: 0.8709 - loss: 0.2613 - val_accuracy: 0.8459 - val_loss: 0.4338\n",
            "Epoch 12/15\n",
            "\u001b[1m598/598\u001b[0m \u001b[32m━━━━━━━━━━━━━━━━━━━━\u001b[0m\u001b[37m\u001b[0m \u001b[1m56s\u001b[0m 94ms/step - accuracy: 0.8734 - loss: 0.2511 - val_accuracy: 0.8510 - val_loss: 0.4325\n",
            "Epoch 13/15\n",
            "\u001b[1m598/598\u001b[0m \u001b[32m━━━━━━━━━━━━━━━━━━━━\u001b[0m\u001b[37m\u001b[0m \u001b[1m66s\u001b[0m 110ms/step - accuracy: 0.8784 - loss: 0.2420 - val_accuracy: 0.8625 - val_loss: 0.3889\n",
            "Epoch 14/15\n",
            "\u001b[1m598/598\u001b[0m \u001b[32m━━━━━━━━━━━━━━━━━━━━\u001b[0m\u001b[37m\u001b[0m \u001b[1m57s\u001b[0m 96ms/step - accuracy: 0.8832 - loss: 0.2293 - val_accuracy: 0.8599 - val_loss: 0.4025\n",
            "Epoch 15/15\n",
            "\u001b[1m598/598\u001b[0m \u001b[32m━━━━━━━━━━━━━━━━━━━━\u001b[0m\u001b[37m\u001b[0m \u001b[1m57s\u001b[0m 95ms/step - accuracy: 0.8853 - loss: 0.2205 - val_accuracy: 0.8694 - val_loss: 0.3786\n"
          ]
        }
      ],
      "source": [
        "early = tf.keras.callbacks.EarlyStopping(patience=3, restore_best_weights=True, monitor=\"val_accuracy\")\n",
        "\n",
        "hist = model.fit(\n",
        "    Xtr, ytr,\n",
        "    validation_data=(Xv, yv),\n",
        "    epochs=15, batch_size=64,\n",
        "    callbacks=[early],\n",
        "    class_weight=cw if len(cw)>0 else None,\n",
        "    verbose=1\n",
        ")\n"
      ]
    },
    {
      "cell_type": "markdown",
      "metadata": {},
      "source": [
        "## Değerlendirme\n"
      ]
    },
    {
      "cell_type": "code",
      "execution_count": 14,
      "metadata": {},
      "outputs": [
        {
          "name": "stdout",
          "output_type": "stream",
          "text": [
            "\u001b[1m150/150\u001b[0m \u001b[32m━━━━━━━━━━━━━━━━━━━━\u001b[0m\u001b[37m\u001b[0m \u001b[1m5s\u001b[0m 30ms/step\n",
            "\n",
            "=== VALIDATION SONUÇLARI ===\n",
            "Accuracy: 0.8694\n",
            "                       precision    recall  f1-score   support\n",
            "\n",
            "               Access       0.88      0.92      0.90       712\n",
            "Administrative rights       0.72      0.82      0.77       176\n",
            "           HR Support       0.88      0.91      0.90      1092\n",
            "             Hardware       0.91      0.79      0.84      1362\n",
            "     Internal Project       0.83      0.92      0.87       212\n",
            "        Miscellaneous       0.80      0.88      0.84       706\n",
            "             Purchase       0.95      0.89      0.92       246\n",
            "              Storage       0.90      0.90      0.90       278\n",
            "\n",
            "             accuracy                           0.87      4784\n",
            "            macro avg       0.86      0.88      0.87      4784\n",
            "         weighted avg       0.87      0.87      0.87      4784\n",
            "\n"
          ]
        }
      ],
      "source": [
        "from sklearn.metrics import classification_report, accuracy_score\n",
        "\n",
        "# Validation seti\n",
        "pred_val = model.predict(Xv).argmax(axis=1)\n",
        "print(\"\\n=== VALIDATION SONUÇLARI ===\")\n",
        "print(f\"Accuracy: {accuracy_score(yv, pred_val):.4f}\")\n",
        "print(classification_report(yv, pred_val, target_names=le.classes_, zero_division=0))\n"
      ]
    },
    {
      "cell_type": "code",
      "execution_count": 15,
      "metadata": {},
      "outputs": [
        {
          "name": "stdout",
          "output_type": "stream",
          "text": [
            "\u001b[1m150/150\u001b[0m \u001b[32m━━━━━━━━━━━━━━━━━━━━\u001b[0m\u001b[37m\u001b[0m \u001b[1m4s\u001b[0m 29ms/step\n",
            "\n",
            "=== TEST SONUÇLARI ===\n",
            "Accuracy: 0.8700\n",
            "                       precision    recall  f1-score   support\n",
            "\n",
            "               Access       0.89      0.92      0.90       713\n",
            "Administrative rights       0.78      0.89      0.83       176\n",
            "           HR Support       0.88      0.90      0.89      1091\n",
            "             Hardware       0.91      0.79      0.85      1362\n",
            "     Internal Project       0.82      0.90      0.86       212\n",
            "        Miscellaneous       0.80      0.87      0.83       706\n",
            "             Purchase       0.89      0.94      0.91       247\n",
            "              Storage       0.93      0.90      0.91       277\n",
            "\n",
            "             accuracy                           0.87      4784\n",
            "            macro avg       0.86      0.89      0.87      4784\n",
            "         weighted avg       0.87      0.87      0.87      4784\n",
            "\n"
          ]
        }
      ],
      "source": [
        "# Test seti\n",
        "pred_test = model.predict(Xt).argmax(axis=1)\n",
        "print(\"\\n=== TEST SONUÇLARI ===\")\n",
        "print(f\"Accuracy: {accuracy_score(yt, pred_test):.4f}\")\n",
        "print(classification_report(yt, pred_test, target_names=le.classes_, zero_division=0))\n"
      ]
    },
    {
      "cell_type": "markdown",
      "metadata": {},
      "source": [
        "## Modeli Kaydet\n"
      ]
    },
    {
      "cell_type": "code",
      "execution_count": 16,
      "metadata": {},
      "outputs": [
        {
          "name": "stderr",
          "output_type": "stream",
          "text": [
            "WARNING:absl:You are saving your model as an HDF5 file via `model.save()` or `keras.saving.save_model(model)`. This file format is considered legacy. We recommend using instead the native Keras format, e.g. `model.save('my_model.keras')` or `keras.saving.save_model(model, 'my_model.keras')`. \n"
          ]
        },
        {
          "name": "stdout",
          "output_type": "stream",
          "text": [
            "Model ve tüm bileşenler kaydedildi!\n"
          ]
        }
      ],
      "source": [
        "import pickle\n",
        "\n",
        "# Model ve tokenizer'ı kaydet\n",
        "model.save(\"../models/word2vec_lstm_model.h5\")\n",
        "w2v.save(\"../models/word2vec_model.bin\")\n",
        "\n",
        "with open(\"../models/tokenizer.pkl\", \"wb\") as f:\n",
        "    pickle.dump(tokenizer, f)\n",
        "    \n",
        "with open(\"../models/label_encoder.pkl\", \"wb\") as f:\n",
        "    pickle.dump(le, f)\n",
        "\n",
        "print(\"Model ve tüm bileşenler kaydedildi!\")\n"
      ]
    },
    {
      "cell_type": "markdown",
      "metadata": {},
      "source": [
        "## Eğitim Grafiği\n"
      ]
    },
    {
      "cell_type": "code",
      "execution_count": 17,
      "metadata": {},
      "outputs": [
        {
          "data": {
            "image/png": "[encoded data removed]",
            "text/plain": [
              "<Figure size 1200x400 with 2 Axes>"
            ]
          },
          "metadata": {},
          "output_type": "display_data"
        },
        {
          "name": "stdout",
          "output_type": "stream",
          "text": [
            "Eğitim grafikleri kaydedildi!\n"
          ]
        }
      ],
      "source": [
        "import matplotlib.pyplot as plt\n",
        "\n",
        "plt.figure(figsize=(12,4))\n",
        "\n",
        "plt.subplot(1,2,1)\n",
        "plt.plot(hist.history['accuracy'], label='train')\n",
        "plt.plot(hist.history['val_accuracy'], label='val')\n",
        "plt.title('Model Accuracy')\n",
        "plt.xlabel('Epoch')\n",
        "plt.ylabel('Accuracy')\n",
        "plt.legend()\n",
        "\n",
        "plt.subplot(1,2,2)\n",
        "plt.plot(hist.history['loss'], label='train')\n",
        "plt.plot(hist.history['val_loss'], label='val')\n",
        "plt.title('Model Loss')\n",
        "plt.xlabel('Epoch')\n",
        "plt.ylabel('Loss')\n",
        "plt.legend()\n",
        "\n",
        "plt.tight_layout()\n",
        "plt.savefig('../reports/training_history.png')\n",
        "plt.show()\n",
        "\n",
        "print(\"Eğitim grafikleri kaydedildi!\")\n"
      ]
    }
  ],
  "metadata": {
    "kernelspec": {
      "display_name": "Python 3",
      "language": "python",
      "name": "python3"
    },
    "language_info": {
      "codemirror_mode": {
        "name": "ipython",
        "version": 3
      },
      "file_extension": ".py",
      "mimetype": "text/x-python",
      "name": "python",
      "nbconvert_exporter": "python",
      "pygments_lexer": "ipython3",
      "version": "3.13.5"
    }
  },
  "nbformat": 4,
  "nbformat_minor": 2
}
