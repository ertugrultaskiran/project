{
  "cells": [
    {
      "cell_type": "markdown",
      "metadata": {},
      "source": [
        "# Hızlı Model Değerlendirme ve Karşılaştırma\n",
        "\n",
        "Bu notebook ile:\n",
        "1. Mevcut modellerinizi test edeceksiniz\n",
        "2. Performansı karşılaştıracaksınız\n",
        "3. İyileştirmeleri göreceksiniz\n"
      ]
    },
    {
      "cell_type": "code",
      "execution_count": null,
      "metadata": {},
      "outputs": [
        {
          "name": "stdout",
          "output_type": "stream",
          "text": [
            "Kutuphaneler yuklendi!\n"
          ]
        }
      ],
      "source": [
        "import pandas as pd\n",
        "import numpy as np\n",
        "import pickle\n",
        "from sklearn.model_selection import train_test_split\n",
        "from sklearn.metrics import classification_report, accuracy_score, confusion_matrix\n",
        "import matplotlib.pyplot as plt\n",
        "import seaborn as sns\n",
        "from tensorflow.keras.models import load_model  # type: ignore\n",
        "from tensorflow.keras.preprocessing.sequence import pad_sequences  # type: ignore\n",
        "import sys\n",
        "sys.path.append('..')\n",
        "from utils import basic_clean\n",
        "\n",
        "print(\"Kutuphaneler yuklendi!\")\n"
      ]
    },
    {
      "cell_type": "markdown",
      "metadata": {},
      "source": [
        "## 1. Veriyi Hazırla\n"
      ]
    },
    {
      "cell_type": "code",
      "execution_count": 2,
      "metadata": {},
      "outputs": [
        {
          "name": "stdout",
          "output_type": "stream",
          "text": [
            "Train: 38269, Val: 4784, Test: 4784\n",
            "Test seti sinif dagilimi:\\nlabel\n",
            "Hardware                 1362\n",
            "HR Support               1091\n",
            "Access                    713\n",
            "Miscellaneous             706\n",
            "Storage                   277\n",
            "Purchase                  247\n",
            "Internal Project          212\n",
            "Administrative rights     176\n",
            "Name: count, dtype: int64\n"
          ]
        }
      ],
      "source": [
        "# Veriyi yükle\n",
        "df = pd.read_csv(\"../data/cleaned_data.csv\")\n",
        "\n",
        "# Aynı şekilde böl\n",
        "X_train, X_tmp, y_train, y_tmp = train_test_split(\n",
        "    df[\"text\"], df[\"label\"], test_size=0.2, random_state=42, stratify=df[\"label\"]\n",
        ")\n",
        "X_val, X_test, y_val, y_test = train_test_split(\n",
        "    X_tmp, y_tmp, test_size=0.5, random_state=42, stratify=y_tmp\n",
        ")\n",
        "\n",
        "print(f\"Train: {len(X_train)}, Val: {len(X_val)}, Test: {len(X_test)}\")\n",
        "print(f\"Test seti sinif dagilimi:\\\\n{y_test.value_counts()}\")\n"
      ]
    },
    {
      "cell_type": "markdown",
      "metadata": {},
      "source": [
        "## 2. Baseline Model Değerlendir\n"
      ]
    },
    {
      "cell_type": "code",
      "execution_count": 3,
      "metadata": {},
      "outputs": [
        {
          "name": "stdout",
          "output_type": "stream",
          "text": [
            "============================================================\n",
            "BASELINE MODEL (TF-IDF + Logistic Regression)\n",
            "============================================================\n",
            "Test Accuracy: 0.8604 (86.04%)\n",
            "\\n                       precision    recall  f1-score   support\n",
            "\n",
            "               Access       0.92      0.86      0.89       713\n",
            "Administrative rights       0.90      0.61      0.73       176\n",
            "           HR Support       0.87      0.88      0.87      1091\n",
            "             Hardware       0.79      0.91      0.85      1362\n",
            "     Internal Project       0.93      0.78      0.85       212\n",
            "        Miscellaneous       0.84      0.83      0.83       706\n",
            "             Purchase       0.99      0.88      0.93       247\n",
            "              Storage       0.97      0.82      0.89       277\n",
            "\n",
            "             accuracy                           0.86      4784\n",
            "            macro avg       0.90      0.82      0.85      4784\n",
            "         weighted avg       0.87      0.86      0.86      4784\n",
            "\n"
          ]
        }
      ],
      "source": [
        "# Baseline model yukle\n",
        "with open(\"../models/baseline_tfidf_logreg.pkl\", \"rb\") as f:\n",
        "    baseline_model = pickle.load(f)\n",
        "\n",
        "# Test et\n",
        "baseline_pred = baseline_model.predict(X_test)\n",
        "baseline_acc = accuracy_score(y_test, baseline_pred)\n",
        "\n",
        "print(\"=\"*60)\n",
        "print(\"BASELINE MODEL (TF-IDF + Logistic Regression)\")\n",
        "print(\"=\"*60)\n",
        "print(f\"Test Accuracy: {baseline_acc:.4f} ({baseline_acc*100:.2f}%)\")\n",
        "print(\"\\\\n\" + classification_report(y_test, baseline_pred, zero_division=0))\n"
      ]
    },
    {
      "cell_type": "markdown",
      "metadata": {},
      "source": [
        "## 3. LSTM Model Değerlendir\n"
      ]
    },
    {
      "cell_type": "code",
      "execution_count": 4,
      "metadata": {},
      "outputs": [
        {
          "name": "stderr",
          "output_type": "stream",
          "text": [
            "WARNING:absl:Compiled the loaded model, but the compiled metrics have yet to be built. `model.compile_metrics` will be empty until you train or evaluate the model.\n"
          ]
        },
        {
          "name": "stdout",
          "output_type": "stream",
          "text": [
            "\u001b[1m150/150\u001b[0m \u001b[32m━━━━━━━━━━━━━━━━━━━━\u001b[0m\u001b[37m\u001b[0m \u001b[1m7s\u001b[0m 42ms/step\n",
            "============================================================\n",
            "LSTM MODEL (Word2Vec + Bidirectional LSTM)\n",
            "============================================================\n",
            "Test Accuracy: 0.8700 (87.00%)\n",
            "\\n                       precision    recall  f1-score   support\n",
            "\n",
            "               Access       0.89      0.92      0.90       713\n",
            "Administrative rights       0.78      0.89      0.83       176\n",
            "           HR Support       0.88      0.90      0.89      1091\n",
            "             Hardware       0.91      0.79      0.85      1362\n",
            "     Internal Project       0.82      0.90      0.86       212\n",
            "        Miscellaneous       0.80      0.87      0.83       706\n",
            "             Purchase       0.89      0.94      0.91       247\n",
            "              Storage       0.93      0.90      0.91       277\n",
            "\n",
            "             accuracy                           0.87      4784\n",
            "            macro avg       0.86      0.89      0.87      4784\n",
            "         weighted avg       0.87      0.87      0.87      4784\n",
            "\n"
          ]
        }
      ],
      "source": [
        "# LSTM model yukle\n",
        "lstm_model = load_model(\"../models/word2vec_lstm_model.h5\")\n",
        "\n",
        "with open(\"../models/tokenizer.pkl\", \"rb\") as f:\n",
        "    tokenizer = pickle.load(f)\n",
        "    \n",
        "with open(\"../models/label_encoder.pkl\", \"rb\") as f:\n",
        "    label_encoder = pickle.load(f)\n",
        "\n",
        "# Preprocess\n",
        "X_test_clean = X_test.apply(basic_clean)\n",
        "sequences = tokenizer.texts_to_sequences(X_test_clean)\n",
        "padded = pad_sequences(sequences, maxlen=80, padding=\"post\", truncating=\"post\")\n",
        "\n",
        "# Predict\n",
        "lstm_probs = lstm_model.predict(padded)\n",
        "lstm_pred_idx = lstm_probs.argmax(axis=1)\n",
        "lstm_pred = label_encoder.inverse_transform(lstm_pred_idx)\n",
        "\n",
        "# Accuracy\n",
        "y_test_encoded = label_encoder.transform(y_test)\n",
        "lstm_acc = accuracy_score(y_test_encoded, lstm_pred_idx)\n",
        "\n",
        "print(\"=\"*60)\n",
        "print(\"LSTM MODEL (Word2Vec + Bidirectional LSTM)\")\n",
        "print(\"=\"*60)\n",
        "print(f\"Test Accuracy: {lstm_acc:.4f} ({lstm_acc*100:.2f}%)\")\n",
        "print(\"\\\\n\" + classification_report(y_test, lstm_pred, zero_division=0))\n"
      ]
    },
    {
      "cell_type": "markdown",
      "metadata": {},
      "source": [
        "## 4. Model Karşılaştırması\n"
      ]
    },
    {
      "cell_type": "code",
      "execution_count": 5,
      "metadata": {},
      "outputs": [
        {
          "name": "stdout",
          "output_type": "stream",
          "text": [
            "============================================================\n",
            "MODEL KARSILASTIRMASI\n",
            "============================================================\n",
            "Baseline (TF-IDF + LogReg): 0.8604 (86.04%)\n",
            "LSTM (Word2Vec + BiLSTM):   0.8700 (87.00%)\n",
            "Iyilestirme:                 +0.96%\n",
            "============================================================\n"
          ]
        },
        {
          "data": {
            "image/png": "[encoded data removed]",
            "text/plain": [
              "<Figure size 1000x600 with 1 Axes>"
            ]
          },
          "metadata": {},
          "output_type": "display_data"
        },
        {
          "name": "stdout",
          "output_type": "stream",
          "text": [
            "\\nGrafik kaydedildi: reports/model_comparison.png\n"
          ]
        }
      ],
      "source": [
        "print(\"=\"*60)\n",
        "print(\"MODEL KARSILASTIRMASI\")\n",
        "print(\"=\"*60)\n",
        "print(f\"Baseline (TF-IDF + LogReg): {baseline_acc:.4f} ({baseline_acc*100:.2f}%)\")\n",
        "print(f\"LSTM (Word2Vec + BiLSTM):   {lstm_acc:.4f} ({lstm_acc*100:.2f}%)\")\n",
        "print(f\"Iyilestirme:                 +{(lstm_acc-baseline_acc)*100:.2f}%\")\n",
        "print(\"=\"*60)\n",
        "\n",
        "# Bar chart\n",
        "models = ['Baseline\\\\n(TF-IDF+LogReg)', 'LSTM\\\\n(Word2Vec+BiLSTM)']\n",
        "accuracies = [baseline_acc, lstm_acc]\n",
        "\n",
        "plt.figure(figsize=(10, 6))\n",
        "bars = plt.bar(models, accuracies, color=['#3498db', '#2ecc71'], alpha=0.8)\n",
        "plt.ylim([0.75, 0.95])\n",
        "plt.ylabel('Accuracy', fontsize=12)\n",
        "plt.title('Model Performance Comparison', fontsize=14, fontweight='bold')\n",
        "plt.axhline(y=0.85, color='r', linestyle='--', label='Target: 85%', alpha=0.5)\n",
        "\n",
        "# Add value labels on bars\n",
        "for bar, acc in zip(bars, accuracies):\n",
        "    height = bar.get_height()\n",
        "    plt.text(bar.get_x() + bar.get_width()/2., height,\n",
        "            f'{acc*100:.2f}%',\n",
        "            ha='center', va='bottom', fontsize=11, fontweight='bold')\n",
        "\n",
        "plt.legend()\n",
        "plt.grid(True, alpha=0.3, axis='y')\n",
        "plt.tight_layout()\n",
        "plt.savefig('../reports/model_comparison.png', dpi=300)\n",
        "plt.show()\n",
        "\n",
        "print(\"\\\\nGrafik kaydedildi: reports/model_comparison.png\")\n"
      ]
    },
    {
      "cell_type": "markdown",
      "metadata": {},
      "source": [
        "## 5. En İyi ve En Kötü Sınıflar\n"
      ]
    },
    {
      "cell_type": "code",
      "execution_count": 6,
      "metadata": {},
      "outputs": [
        {
          "name": "stdout",
          "output_type": "stream",
          "text": [
            "\\n============================================================\n",
            "SINIF BAZINDA PERFORMANS (LSTM)\n",
            "============================================================\n",
            "                Class  Precision   Recall  F1-Score  Support\n",
            "              Storage   0.925926 0.902527  0.914077      277\n",
            "             Purchase   0.891892 0.935223  0.913043      247\n",
            "               Access   0.885135 0.918654  0.901583      713\n",
            "           HR Support   0.877788 0.901925  0.889693     1091\n",
            "     Internal Project   0.816239 0.900943  0.856502      212\n",
            "             Hardware   0.910624 0.792952  0.847724     1362\n",
            "        Miscellaneous   0.795337 0.869688  0.830853      706\n",
            "Administrative rights   0.777228 0.892045  0.830688      176\n",
            "\\n En İyi 3 Sınıf (F1-Score):\n",
            "   Class  F1-Score\n",
            " Storage  0.914077\n",
            "Purchase  0.913043\n",
            "  Access  0.901583\n",
            "\\n En Düşük 3 Sınıf (F1-Score):\n",
            "                Class  F1-Score\n",
            "             Hardware  0.847724\n",
            "        Miscellaneous  0.830853\n",
            "Administrative rights  0.830688\n"
          ]
        }
      ],
      "source": [
        "from sklearn.metrics import precision_recall_fscore_support\n",
        "\n",
        "# LSTM için sınıf bazında metrikler\n",
        "precision, recall, f1, support = precision_recall_fscore_support(\n",
        "    y_test, lstm_pred, average=None, zero_division=0\n",
        ")\n",
        "\n",
        "classes = sorted(df['label'].unique())\n",
        "class_metrics = pd.DataFrame({\n",
        "    'Class': classes,\n",
        "    'Precision': precision,\n",
        "    'Recall': recall,\n",
        "    'F1-Score': f1,\n",
        "    'Support': support\n",
        "}).sort_values('F1-Score', ascending=False)\n",
        "\n",
        "print(\"\\\\n\" + \"=\"*60)\n",
        "print(\"SINIF BAZINDA PERFORMANS (LSTM)\")\n",
        "print(\"=\"*60)\n",
        "print(class_metrics.to_string(index=False))\n",
        "\n",
        "print(\"\\\\n En İyi 3 Sınıf (F1-Score):\")\n",
        "print(class_metrics.head(3)[['Class', 'F1-Score']].to_string(index=False))\n",
        "\n",
        "print(\"\\\\n En Düşük 3 Sınıf (F1-Score):\")\n",
        "print(class_metrics.tail(3)[['Class', 'F1-Score']].to_string(index=False))\n"
      ]
    },
    {
      "cell_type": "markdown",
      "metadata": {},
      "source": [
        "## 6. Sonuç ve Öneriler\n"
      ]
    },
    {
      "cell_type": "code",
      "execution_count": 7,
      "metadata": {},
      "outputs": [
        {
          "name": "stdout",
          "output_type": "stream",
          "text": [
            "\\n============================================================\n",
            "SONUC ve IYILESTIRME ONERILERI\n",
            "============================================================\n",
            "\\nMevcut En İyi Model: LSTM (87.00%)\n",
            "\\nIyilestirme Potansiyeli:\n",
            "  - BERT Fine-tuning: +3-6% → Hedef: 90-93%\n",
            "  - Hyperparameter Tuning: +1-2% → Hedef: 88-89%\n",
            "  - Ensemble (Baseline+LSTM): +2-3% → Hedef: 89-90%\n",
            "  - Ensemble (All models): +4-7% → Hedef: 91-94%\n",
            "\\nOncelikli Adimlar:\n",
            "  1. BERT modelini egit (en yuksek kazanc)\n",
            "  2. Ensemble yap (hizli kazanc)\n",
            "  3. Hyperparameter tuning (kolay kazanc)\n",
            "\\n============================================================\n",
            "DEGER LENDIRME TAMAMLANDI!\n",
            "============================================================\n"
          ]
        }
      ],
      "source": [
        "print(\"\\\\n\" + \"=\"*60)\n",
        "print(\"SONUC ve IYILESTIRME ONERILERI\")\n",
        "print(\"=\"*60)\n",
        "\n",
        "print(f\"\\\\nMevcut En İyi Model: LSTM ({lstm_acc*100:.2f}%)\")\n",
        "print(f\"\\\\nIyilestirme Potansiyeli:\")\n",
        "print(f\"  - BERT Fine-tuning: +3-6% → Hedef: 90-93%\")\n",
        "print(f\"  - Hyperparameter Tuning: +1-2% → Hedef: 88-89%\")\n",
        "print(f\"  - Ensemble (Baseline+LSTM): +2-3% → Hedef: 89-90%\")\n",
        "print(f\"  - Ensemble (All models): +4-7% → Hedef: 91-94%\")\n",
        "\n",
        "print(f\"\\\\nOncelikli Adimlar:\")\n",
        "print(f\"  1. BERT modelini egit (en yuksek kazanc)\")\n",
        "print(f\"  2. Ensemble yap (hizli kazanc)\")\n",
        "print(f\"  3. Hyperparameter tuning (kolay kazanc)\")\n",
        "\n",
        "print(\"\\\\n\" + \"=\"*60)\n",
        "print(\"DEGER LENDIRME TAMAMLANDI!\")\n",
        "print(\"=\"*60)\n"
      ]
    }
  ],
  "metadata": {
    "kernelspec": {
      "display_name": "Python 3",
      "language": "python",
      "name": "python3"
    },
    "language_info": {
      "codemirror_mode": {
        "name": "ipython",
        "version": 3
      },
      "file_extension": ".py",
      "mimetype": "text/x-python",
      "name": "python",
      "nbconvert_exporter": "python",
      "pygments_lexer": "ipython3",
      "version": "3.13.5"
    }
  },
  "nbformat": 4,
  "nbformat_minor": 2
}
